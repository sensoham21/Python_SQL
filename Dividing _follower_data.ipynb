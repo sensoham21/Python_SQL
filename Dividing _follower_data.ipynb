{
 "cells": [
  {
   "cell_type": "code",
   "execution_count": 3,
   "metadata": {},
   "outputs": [],
   "source": [
    "with open('insert_followers.txt',mode = 'r') as insert_follows:\n",
    "    content = insert_follows.read()"
   ]
  },
  {
   "cell_type": "code",
   "execution_count": 4,
   "metadata": {},
   "outputs": [],
   "source": [
    "insert_follows1 = open('New_output.txt',mode = 'w')"
   ]
  },
  {
   "cell_type": "code",
   "execution_count": 6,
   "metadata": {},
   "outputs": [],
   "source": [
    "base = 'INSERT INTO follows(follower_id, followee_id) VALUES '\n",
    "content.replace('INSERT INTO follows(follower_id, followee_id) VALUES ','')\n",
    "count = 0\n",
    "query = ''\n",
    "tokens = content.split('), ')\n",
    "for token in tokens:\n",
    "    query = query + token + '), '\n",
    "    count = count+1\n",
    "    if count == 900:\n",
    "        insert_follows1.write(base+query+';'+'\\n')\n",
    "        count = 0\n",
    "        query = ''\n",
    "insert_follows1.write(base+query+';'+'\\n')\n",
    "insert_follows1.close()\n",
    "\n",
    "    "
   ]
  },
  {
   "cell_type": "code",
   "execution_count": null,
   "metadata": {},
   "outputs": [],
   "source": []
  }
 ],
 "metadata": {
  "kernelspec": {
   "display_name": "Python 3",
   "language": "python",
   "name": "python3"
  },
  "language_info": {
   "codemirror_mode": {
    "name": "ipython",
    "version": 3
   },
   "file_extension": ".py",
   "mimetype": "text/x-python",
   "name": "python",
   "nbconvert_exporter": "python",
   "pygments_lexer": "ipython3",
   "version": "3.7.1"
  }
 },
 "nbformat": 4,
 "nbformat_minor": 2
}
